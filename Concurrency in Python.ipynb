{
   "cell_type": "code",
   "execution_count": 1,
   "id": "65d02076",
   "metadata": {},
   "outputs": [],
   "source": [
    "#13.1 Write the current date as a string to the text file today.txt.\n",
    "\n",
    "from datetime import datetime\n",
    "\n",
    "now = datetime.now()\n",
    "date_string = now.strftime(\"%m/%d/%Y %H:%M:%S\")\n",
    "with open(\"today.txt\", \"w\") as file:\n",
    "    file.write(date_string)"
   ]
  },
